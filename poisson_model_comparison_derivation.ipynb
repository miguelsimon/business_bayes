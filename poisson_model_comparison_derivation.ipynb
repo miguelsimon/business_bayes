{
 "cells": [
  {
   "cell_type": "code",
   "execution_count": 1,
   "metadata": {},
   "outputs": [],
   "source": [
    "%matplotlib inline\n",
    "import numpy as np\n",
    "import scipy\n",
    "from scipy import stats\n",
    "import matplotlib.pyplot as plt\n",
    "from sympy import pprint, init_printing, Symbol, exp, Integral, integrate, oo, gamma, Q, refine, log"
   ]
  },
  {
   "cell_type": "markdown",
   "metadata": {},
   "source": [
    "## Poisson model comparison\n",
    "\n",
    "Let's find the necessary terms to calculate the Bayes factor:\n",
    "\n",
    "$$\n",
    "\\frac{p(M_1|x)}{p(M_2|x)} = \\frac{p(M_1)}{p(M_2)} \\, \\frac{p(x|M_1)}{p(x|M_2)}\n",
    "$$\n",
    "\n",
    "* [Prior for Poisson scale parameter](#Prior-for-Poisson-scale-parameter)\n",
    "* [Model 1 evidence](#Model-1-evidence)\n",
    "* [Model 2 evidence](#Model-2-evidence)\n",
    "* [Bayes factor](#Bayes-factor)\n",
    "\n",
    "### Prior for Poisson scale parameter\n",
    "\n",
    "We're going to determine the lower and upper bounds on the rates we expect to see, and take a prior that makes the *log* of that uniform; this means that, for bounds $a$ and $b$ on the rate, the probability density is given by:\n",
    "\n",
    "$$\n",
    "\\frac{1}{x \\cdot (ln(b) - ln(a))}\n",
    "$$\n",
    "\n"
   ]
  },
  {
   "cell_type": "markdown",
   "metadata": {},
   "source": [
    "### Model 1 evidence\n",
    "\n",
    "In model 1 we have 1 parameter, $x$, which is a Poisson rate that explains both observations; the likelihood is the product of the Poisson likelihoods of both observations times the prior, which as explained before is log-constant between lower and upper bounds $a$ and $b$:\n",
    "\n",
    "$$\n",
    "p(x|M_1) = \\int_a^b p(k_1 \\mid x) \\cdot p(k_2 \\mid x) \\cdot p(x) dx\n",
    "$$\n",
    "\n",
    "$$\n",
    "\\int_a^b \\frac{x ^ {k_1} e ^ {- x}}{k_1!} \\cdot \\frac{x ^ {k_2} e ^ {- x}}{k_2!} \\cdot \\frac{1}{x \\cdot (ln(b) - ln(a))} dx\n",
    "$$\n",
    "\n",
    "$$\n",
    "\\frac{1}{k_1! \\cdot k_2! \\cdot (ln(b) - ln(a))} \\cdot \\int_a^b x ^ {k_1 + k_2 - 1} \\cdot e ^ {-2x} dx\n",
    "$$\n",
    "\n",
    "Thanks to maxima, it seems this can be expressed with incomplete Gamma functions:\n",
    "\n",
    "$$\n",
    "\\frac{1}{k_1! \\cdot k_2! \\cdot (ln(b) - ln(a))} \\cdot 2 ^ {-k_2 -k_1} \\cdot \\big(\\Gamma(k_2 + k_1, 2 a) - \\Gamma(k_2 + k_1, 2 b) \\big)\n",
    "$$"
   ]
  },
  {
   "cell_type": "code",
   "execution_count": 2,
   "metadata": {},
   "outputs": [
    {
     "name": "stdout",
     "output_type": "stream",
     "text": [
      "[5.31716311e-03 5.96152204e-13]\n",
      "0.00531716310935224\n"
     ]
    }
   ],
   "source": [
    "\n",
    "def poisson_density(k, x):\n",
    "    return (x ** k) * exp(-x) / gamma(k + 1)\n",
    "\n",
    "def logflat_prior(a, b, x):\n",
    "    return 1 / (x * (log(b) - log(a)))\n",
    "\n",
    "# model 1\n",
    "def make_model1():\n",
    "    a = Symbol(\"a\")\n",
    "    b = Symbol(\"b\")\n",
    "    k1 = Symbol(\"k1\")\n",
    "    k2 = Symbol(\"k2\")\n",
    "    x = Symbol(\"x\")\n",
    "    \n",
    "    likelihood = poisson_density(k1, x) * poisson_density(k2, x) * logflat_prior(a, b, x)\n",
    "    \n",
    "    return integrate(likelihood, (x, a, b))\n",
    "\n",
    "def naive_model1_evidence(a, b, k1, k2):\n",
    "    constant = np.log(b) - np.log(a)\n",
    "    def f(x):\n",
    "        ll = stats.poisson.logpmf(k1, x)\n",
    "        ll += stats.poisson.logpmf(k2, x)\n",
    "        ll -= np.log(x)\n",
    "\n",
    "        return np.exp(ll)\n",
    "\n",
    "    return scipy.integrate.quad(f, a, b) / constant\n",
    "\n",
    "# compare symbolic and numeric computations\n",
    "\n",
    "print(naive_model1_evidence(0.1, 10, 5, 5))\n",
    "print(make_model1().subs('a', 0.1).subs('b', 10).subs('k1', 5).subs('k2', 5).evalf())"
   ]
  },
  {
   "cell_type": "markdown",
   "metadata": {},
   "source": [
    "### Model 2 evidence\n",
    "\n",
    "In model 2 we have 2 parameters for the Poisson rates, $x_1$ and $x_2$, each explaining one observation. Each of these has a log-constant prior between $a$ and $b$:\n",
    "\n",
    "$$\n",
    "p(x|M_2) = \\int_a^b \\int_a^b p(k_1 \\mid x_1) \\cdot p(k_2 \\mid x_2) \\cdot p(x_1) \\cdot p(x_2) dx_1 dx_2\n",
    "$$\n",
    "\n",
    "$$\n",
    "\\int_a^b \\int_a^b \\frac{x_1 ^ {k_1} e ^ {- x_1}}{k_1!} \\cdot \\frac{x_2 ^ {k_2} e ^ {- x_2}}{k_2!} \\cdot \\frac{1}{x_1 \\cdot (ln(b) - ln(a))} \\cdot \\frac{1}{x_2 \\cdot (ln(b) - ln(a))} dx_1 dx_2\n",
    "$$\n",
    "\n",
    "$$\n",
    "\\left( \\int_a^b \\frac{x_1 ^ {k_1} e ^ {- x_1}}{k_1!} \\cdot \\frac{1}{x_1 \\cdot (ln(b) - ln(a))} dx_1 \\right) \\cdot \\left( \\int_a^b \\frac{x_2 ^ {k_2} e ^ {- x_2}}{k_2!}  \\cdot \\frac{1}{x_2 \\cdot (ln(b) - ln(a))} dx_2 \\right)\n",
    "$$"
   ]
  },
  {
   "cell_type": "code",
   "execution_count": 3,
   "metadata": {},
   "outputs": [
    {
     "name": "stdout",
     "output_type": "stream",
     "text": [
      "0.0017773826940835433\n",
      "0.00177738269408354\n"
     ]
    }
   ],
   "source": [
    "# model 2\n",
    "def make_model2():\n",
    "    a = Symbol(\"a\")\n",
    "    b = Symbol(\"b\")\n",
    "    k1 = Symbol(\"k1\")\n",
    "    k2 = Symbol(\"k2\")\n",
    "    x1 = Symbol(\"x1\")\n",
    "    x2 = Symbol(\"x2\")\n",
    "    \n",
    "    term1 = poisson_density(k1, x1) * logflat_prior(a, b, x1)\n",
    "    term2 = poisson_density(k2, x2) * logflat_prior(a, b, x2)\n",
    "    \n",
    "    return integrate(term1, (x1, a, b)) * integrate(term2, (x2, a, b))\n",
    "\n",
    "def naive_model2_evidence(a, b, k1, k2):\n",
    "    constant = np.log(b) - np.log(a)\n",
    "    \n",
    "    def f1(x):\n",
    "        ll = stats.poisson.logpmf(k1, x)\n",
    "        ll -= np.log(x)\n",
    "        return np.exp(ll)\n",
    "    \n",
    "    def f2(x):\n",
    "        ll = stats.poisson.logpmf(k2, x)\n",
    "        ll -= np.log(x)\n",
    "        return np.exp(ll)\n",
    "    \n",
    "    term1 = scipy.integrate.quad(f1, a, b)\n",
    "    term2 = scipy.integrate.quad(f2, a, b)\n",
    "    \n",
    "    res = term1[0] * term2[0] / (constant * constant)\n",
    "\n",
    "    return res\n",
    "\n",
    "print(naive_model2_evidence(0.1, 10, 5, 5))\n",
    "print(make_model2().subs('a', 0.1).subs('b', 10).subs('k1', 5).subs('k2', 5).evalf())\n"
   ]
  },
  {
   "cell_type": "markdown",
   "metadata": {},
   "source": [
    "### Bayes factor\n",
    "\n",
    "Let's take the base2 log of the Bayes factor:"
   ]
  },
  {
   "cell_type": "code",
   "execution_count": 10,
   "metadata": {},
   "outputs": [
    {
     "name": "stdout",
     "output_type": "stream",
     "text": [
      "3.30724319907297\n",
      "3.3072431990729765\n"
     ]
    }
   ],
   "source": [
    "def bayes_factor(a, b, k1, k2):\n",
    "    m1 = make_model1()\n",
    "    m2 = make_model2()\n",
    "    \n",
    "    res1 = m1.subs('a', a).subs('b', b).subs('k1', k1).subs('k2', k2)\n",
    "    res2 = m2.subs('a', a).subs('b', b).subs('k1', k1).subs('k2', k2)\n",
    "    \n",
    "    return (log(res1, 2) - log(res2, 2)).evalf()\n",
    "\n",
    "def naive_bayes_factor(a, b, k1, k2):\n",
    "    m1_evidence = naive_model1_evidence(a, b, k1, k2)[0]\n",
    "    m2_evidence = naive_model2_evidence(a, b, k1, k2)\n",
    "    \n",
    "    return np.log2(m1_evidence) - np.log2(m2_evidence)\n",
    "\n",
    "print(bayes_factor(0.1, 1000, 50, 40))\n",
    "print(naive_bayes_factor(0.1, 1000, 50, 40))\n",
    "    "
   ]
  },
  {
   "cell_type": "code",
   "execution_count": null,
   "metadata": {},
   "outputs": [],
   "source": []
  },
  {
   "cell_type": "code",
   "execution_count": null,
   "metadata": {},
   "outputs": [],
   "source": []
  }
 ],
 "metadata": {
  "kernelspec": {
   "display_name": "Python 3",
   "language": "python",
   "name": "python3"
  },
  "language_info": {
   "codemirror_mode": {
    "name": "ipython",
    "version": 3
   },
   "file_extension": ".py",
   "mimetype": "text/x-python",
   "name": "python",
   "nbconvert_exporter": "python",
   "pygments_lexer": "ipython3",
   "version": "3.7.3"
  }
 },
 "nbformat": 4,
 "nbformat_minor": 4
}
