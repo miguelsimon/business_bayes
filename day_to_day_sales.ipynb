{
 "cells": [
  {
   "cell_type": "code",
   "execution_count": 1,
   "metadata": {},
   "outputs": [],
   "source": [
    "%matplotlib inline\n",
    "import numpy as np\n",
    "import matplotlib.pyplot as plt\n",
    "import scipy.stats\n",
    "import scipy.integrate\n",
    "import pymc3 as pm"
   ]
  },
  {
   "cell_type": "markdown",
   "metadata": {},
   "source": [
    "## Are today's sales lower than yesterday's because of randomness, or should I be worried?\n",
    "\n",
    "Suppose we're looking at transactions per day for a low-volume online store we've just opened.\n",
    "\n",
    "We've noticed that we've sold 5 items yesterday and 3 items today."
   ]
  },
  {
   "cell_type": "markdown",
   "metadata": {},
   "source": [
    "It's really hard to tell if this is an **important** difference, ie. is something causing sales to go down, or unimportant, ie. we're just seeing random fluctuations.\n",
    "\n",
    "How do we deal with this? We need a way to quantify the concept of \"important\" change. "
   ]
  },
  {
   "cell_type": "markdown",
   "metadata": {},
   "source": [
    "* [Spherical cows: mathematical models of sales over time](#Spherical-cows:-mathematical-models-of-sales-over-time)\n",
    "* [How do we formalize the question?](#How-do-we-formalize-the-question?)\n",
    "    * [Bayesian model comparison](#Bayesian-model-comparison)\n",
    "        * [The model comparison question](#The-model-comparison-question)\n",
    "        * [The model comparison answer](#The-model-comparison-answer)\n",
    "    * [Proportionality](#Proportionality)\n",
    "        * [The proportionality question](#The-proportionality-question)\n",
    "        * [The proportionality answer](#The-proportionality-answer)\n",
    "    * [Examples](#Examples)\n",
    "* [Conclusions](#conclusions)"
   ]
  },
  {
   "cell_type": "markdown",
   "metadata": {},
   "source": [
    "## Spherical cows: mathematical models of sales over time\n",
    "\n",
    "We want [the simplest possible model](https://en.wikipedia.org/wiki/Spherical_cow) we can find that:\n",
    "* lets us formulate our question \"is the difference between today's sales and yesterday's due to chance?\"\n",
    "* does not make assumptions or simplifications that are obviously inapplicable to our case\n",
    "\n",
    "One way to frame this question is in terms of the **expected sales rate**, that is, how many sales are expected to occur per unit time. \n",
    "\n",
    "Sales depend on a huge amount of factors that are constantly changing: the quality of the product, ad campaigns, the mood of the purchasers, the economy, phase of the moon etc. A model taking all that into account would be hopelessly complex.\n",
    "\n",
    "We'll simplify the situation by saying all those factors determine an (unknown) daily sales rate we'll call $\\mu$: the number of sales in a day is a random variable that depends on this unknown rate $\\mu$.\n",
    "\n",
    "This yields a much simpler model, as now we only need to deal with the number $\\mu$ instead of all those other factors."
   ]
  },
  {
   "cell_type": "markdown",
   "metadata": {},
   "source": [
    "#### Exactly how does the sales rate $\\mu$ affect sales?\n",
    "\n",
    "We'll choose a [Poisson distribution](https://en.wikipedia.org/wiki/Poisson_distribution) to describe the dependency between the number of sales in a day $day_i$ and the sales rate that day $\\mu_i$:\n",
    "\n",
    "$$\n",
    "day_i \\sim \\operatorname{Poisson}(\\mu_i)\n",
    "$$\n",
    "\n",
    "In our situation: \n",
    "* we have daily counts: $day_1$ and $day_2$\n",
    "* we assume these counts depend on unknown underlying rates $\\mu_1$ and $\\mu_2$ for each day\n",
    "* we are interested in the question: is it reasonable to believe the rates $\\mu_1$ and $\\mu_2$ are different or the same, given the daily count data $day_1$ and $day_2$?"
   ]
  },
  {
   "cell_type": "markdown",
   "metadata": {},
   "source": [
    "## How do we formalize the question?\n",
    "\n",
    "So we have our spherical cow: the count for $day_1$ is drawn from a Poisson distribution with rate $\\mu_1$, the count for $day_2$ is drawn from a Poisson distribution with rate $\\mu_2$.\n",
    "\n",
    "**How can we quantitatively ask \"is it reasonable to believe $\\mu_1$ is different from $\\mu_2$ ?\"**\n",
    "\n",
    "I just don't understand most of the orthodox (frequentist) methods, not for lack of trying: I believe the questions the orthodox methods are answering are different from the questions I am interested in asking. See [E.T. Jaynes](https://bayes.wustl.edu/etj/articles/confidence.pdf) for entertaining and enlightening polemics.\n",
    "\n",
    "I've found (at least) 2 interesting ways to quantify aspects of this question, the approaches are complementary:\n",
    "* **via model comparison**: build 2 models and find the higher-scoring one using Bayesian model comparison\n",
    "    * one model assumes a single underlying $\\mu$ for both days\n",
    "    * the other model assumes distinct $\\mu_1$ and $\\mu_2$ for the days\n",
    "* **via a proportionality constant relating the rates**: assume $\\mu_2 = k \\cdot \\mu_1$ and look at the plausible values for this constant: values near 1 indicate that the rates are similar, values away from one indicate difference (and the magnitude of that difference)."
   ]
  },
  {
   "cell_type": "markdown",
   "metadata": {},
   "source": [
    "### Bayesian model comparison\n",
    "\n",
    "Bayesian model comparison can tell us which model is appropriate for the situation, and quantify *how much more* appropriate one model is than the other. Bayes factors are an extremely powerful formalization of common sense, for very deep reasons. [Occam's razor](https://en.wikipedia.org/wiki/Occam%27s_razor) is a natural consequence of applying Bayesian model comparison: in this case we're asking a quantitative version of Occam's razor, as in, do we need 1 parameter ($\\mu$) to describe the data, or 2 ($\\mu_1$, $\\mu_2$)?"
   ]
  },
  {
   "cell_type": "markdown",
   "metadata": {},
   "source": [
    "#### The model comparison question\n",
    "\n",
    "To frame this as a model comparison question,  we build:\n",
    "\n",
    "##### Model 1 where both days share the same underlying rate $\\mu$\n",
    "\n",
    "* $\\mu \\sim U(0.001, 100)$\n",
    "* $day_1 \\sim Poisson(\\mu)$\n",
    "* $day_2 \\sim Poisson(\\mu)$\n",
    "\n",
    "##### Model 2 where the days have different rates $\\mu_1$, $\\mu_2$\n",
    "\n",
    "* $\\mu_1 \\sim U(0.001, 100)$\n",
    "* $\\mu_2 \\sim U(0.001, 100)$\n",
    "* $day_1 \\sim Poisson(\\mu_1)$\n",
    "* $day_2 \\sim Poisson(\\mu_2)$\n",
    "\n",
    "I'm taking a uniform prior (for illustration purposes) for the rates $mu_i$ consistent with our expectations for a small store, ranging from:\n",
    "* a sale every 100 days\n",
    "* 100 sales a day\n",
    "\n",
    "And ask: **which is the better model according to the Bayes factor?**\n"
   ]
  },
  {
   "cell_type": "markdown",
   "metadata": {},
   "source": [
    "#### The model comparison answer\n",
    "\n",
    "We're looking for the [Bayes factor](https://en.wikipedia.org/wiki/Bayes_factor): \n",
    "\n",
    "$$\n",
    "\\frac{Pr(day_1=5, day_2=3 \\mid model_1)}{Pr(day_1=5, day_2=3 \\mid model_2)}\n",
    "$$\n",
    "\n",
    "So we need to integrate out each model's parameters:"
   ]
  },
  {
   "cell_type": "markdown",
   "metadata": {},
   "source": [
    "##### Model 1: common rate $\\mu$ for both days\n",
    "\n",
    "$$\n",
    "Pr(day_1=5, day_2=3 \\mid model_1) = \\int_{0.01}^{100} \n",
    "\\frac{\\mu ^ 5\n",
    "    \\cdot \n",
    "e ^ {-\\mu}}{5!}\n",
    "    \\cdot\n",
    "\\frac{\\mu ^ 3\n",
    "    \\cdot \n",
    "e ^ {-\\mu}}{3!}\n",
    "\\cdot\n",
    "\\frac{1}{100 - 0.01}\n",
    "d \\mu\n",
    "$$"
   ]
  },
  {
   "cell_type": "markdown",
   "metadata": {},
   "source": [
    "#### Model 2: distinct rates $\\mu_1$ and $\\mu_2$ \n",
    "\n",
    "$$\n",
    "Pr(day_1=5, day_2=3 \\mid model_2) = \n",
    "\\int_{0.01}^{100} \\int_{0.01}^{100}\n",
    "\\frac{\\mu_1 ^ 5 \n",
    "    \\cdot \n",
    "e ^ {- \\mu_1}}{5!}\n",
    "    \\cdot\n",
    "\\frac{1}{100 - 0.01}\n",
    "\\cdot\n",
    "\\frac{\\mu_2 ^ 3 \n",
    "    \\cdot \n",
    "e ^ {- \\mu_2}}{3!}\n",
    "    \\cdot\n",
    "\\frac{1}{100 - 0.01}\n",
    "d \\mu_1\n",
    "d \\mu_2\n",
    "$$"
   ]
  },
  {
   "cell_type": "code",
   "execution_count": 2,
   "metadata": {},
   "outputs": [],
   "source": [
    "poisson_pmf = scipy.stats.poisson.pmf\n",
    "\n",
    "def model_1_prob(day_1, day_2):\n",
    "    a = 0.001\n",
    "    b = 100\n",
    "    f = lambda mu: poisson_pmf(day_1, mu) * poisson_pmf(day_2, mu) / (100 - 0.01)\n",
    "    return scipy.integrate.quad(f, a, b) \n",
    "\n",
    "def model_2_prob(day_1, day_2):\n",
    "    a = 0.001\n",
    "    b = 100\n",
    "    gfun = lambda x: a\n",
    "    hfun = lambda x: b\n",
    "    \n",
    "    f = lambda mu1, mu2: poisson_pmf(day_1, mu1) * poisson_pmf(day_2, mu2) / ((100 - 0.01) ** 2)\n",
    "    \n",
    "    return scipy.integrate.dblquad(f, a, b, gfun, hfun)\n",
    "    \n",
    "\n",
    "def bayes_factor_bits(day_1, day_2):\n",
    "    res_1 = model_1_prob(day_1, day_2)\n",
    "    res_2 = model_2_prob(day_1, day_2)\n",
    "    \n",
    "    k = res_1[0] / res_2[0]\n",
    "    \n",
    "    return np.log2(k)"
   ]
  },
  {
   "cell_type": "markdown",
   "metadata": {},
   "source": [
    "\n",
    "Armed with the function that calculates the bayes factor, actually the log bayes factor base 2, in bits, and [a table for interpreting the bayes factor quantitatively](https://en.wikipedia.org/wiki/Bayes_factor#Interpretation) we can ask the initial question:\n",
    "\n",
    "**If I sold 5 items yesterday and 3 items today, is it plausible to believe the sales rate has changed?**"
   ]
  },
  {
   "cell_type": "code",
   "execution_count": 3,
   "metadata": {},
   "outputs": [
    {
     "data": {
      "text/plain": [
       "3.4510668352803506"
      ]
     },
     "execution_count": 3,
     "metadata": {},
     "output_type": "execute_result"
    }
   ],
   "source": [
    "bayes_factor_bits(5, 3)"
   ]
  },
  {
   "cell_type": "markdown",
   "metadata": {},
   "source": [
    "`3.45` bits means there's strong support for thinking **the rate has not changed**.\n",
    "\n",
    "Let's game out a few cases and see what the Bayes factor tells us:"
   ]
  },
  {
   "cell_type": "code",
   "execution_count": 4,
   "metadata": {},
   "outputs": [
    {
     "name": "stdout",
     "output_type": "stream",
     "text": [
      "day 1: 5, day2: 3 bayes: 3.4510668352803506\n",
      "day 1: 5, day2: 0 bayes: 0.6451546081674681\n",
      "day 1: 12, day2: 2 bayes: -1.848493446499082\n"
     ]
    }
   ],
   "source": [
    "for day_1, day_2 in [(5, 3), (5, 0), (12, 2)]:\n",
    "    bayes_f = bayes_factor_bits(day_1, day_2)\n",
    "    print('day 1: {0}, day2: {1} bayes: {2}'.format(day_1, day_2, bayes_f))"
   ]
  },
  {
   "cell_type": "markdown",
   "metadata": {},
   "source": [
    "* 5, 3: the original question, strong support for no change\n",
    "* 5, 0: don't know whether the rate has changed or not, both scenarios are plausible\n",
    "* 12, 2: strong support for the rate having changed from one day to the other"
   ]
  },
  {
   "cell_type": "markdown",
   "metadata": {},
   "source": [
    "### Proportionality\n",
    "\n",
    "We assume that $\\mu_2$ is related to $\\mu_1$ via a constant factor $k$: examining the distribution of the plausible values for this $k$ will show us the relationship between $\\mu_1$ and $\\mu_2$.\n",
    "\n",
    "To model this situation:\n",
    "* $\\mu_1 \\sim U(0.001, 100)$\n",
    "* $k \\sim U(0.001, 100)$\n",
    "* $day_1 \\sim \\operatorname{Poisson}(\\mu_1)$\n",
    "* $day_2 \\sim \\operatorname{Poisson}(k \\cdot \\mu_1)$\n",
    "\n",
    "#### The proportionality question\n",
    "\n",
    "If we assume the daily rates are related by a constant: $\\mu_2 = k \\cdot \\mu_1$, what is the probability distribution of $k$ given the data?"
   ]
  },
  {
   "cell_type": "markdown",
   "metadata": {},
   "source": [
    "#### The proportionality answer\n",
    "\n",
    "The answer to the question is a probability density over $k$.\n",
    "\n",
    "We'll use the excellent [pymc3](https://docs.pymc.io/), which means we can write down the model essentially verbatim:"
   ]
  },
  {
   "cell_type": "code",
   "execution_count": 5,
   "metadata": {},
   "outputs": [],
   "source": [
    "def make_proportional_model(day_1_count, day_2_count):\n",
    "    model = pm.Model()\n",
    "\n",
    "    with model:\n",
    "\n",
    "        # prior for poisson\n",
    "        mu = pm.Uniform('mu', lower = 0.01, upper = 100)\n",
    "    \n",
    "        # prior for k\n",
    "        k = pm.Uniform('k', lower = 0.01, upper = 100)\n",
    "\n",
    "        day_1 = pm.Poisson('day_1', mu, observed=day_1_count)\n",
    "        day_2 = pm.Poisson('day_2', k * mu, observed=day_2_count)\n",
    "    return model\n",
    "        "
   ]
  },
  {
   "cell_type": "markdown",
   "metadata": {},
   "source": [
    "We can perform inference for the original question:"
   ]
  },
  {
   "cell_type": "code",
   "execution_count": 6,
   "metadata": {},
   "outputs": [
    {
     "name": "stderr",
     "output_type": "stream",
     "text": [
      "Auto-assigning NUTS sampler...\n",
      "Initializing NUTS using jitter+adapt_diag...\n",
      "Multiprocess sampling (2 chains in 2 jobs)\n",
      "NUTS: [k, mu]\n",
      "Sampling 2 chains for 1_000 tune and 5_000 draw iterations (2_000 + 10_000 draws total) took 11 seconds.\n"
     ]
    }
   ],
   "source": [
    "%%capture\n",
    "model = make_proportional_model(5, 3)\n",
    "with model:\n",
    "    trace = pm.sample(5000)\n",
    "    \n",
    "_ = pm.traceplot(trace)"
   ]
  },
  {
   "cell_type": "code",
   "execution_count": 7,
   "metadata": {},
   "outputs": [
    {
     "data": {
      "text/plain": [
       "<matplotlib.legend.Legend at 0x11bc4e1d0>"
      ]
     },
     "execution_count": 7,
     "metadata": {},
     "output_type": "execute_result"
    },
    {
     "data": {
      "image/png": "[encoded data removed]",
      "text/plain": [
       "<Figure size 432x288 with 1 Axes>"
      ]
     },
     "metadata": {
      "needs_background": "light"
     },
     "output_type": "display_data"
    }
   ],
   "source": [
    "k = trace['k'][:-3000]\n",
    "\n",
    "a, b, c = np.percentile(k, 5), np.percentile(k, 50), np.percentile(k, 95)\n",
    "\n",
    "_ = plt.hist(k, bins=100)\n",
    "\n",
    "plt.xlabel(\"k\")\n",
    "plt.ylabel(\"probability density\")\n",
    "plt.axvline(a, c = 'r', label=\"percentile 05\")\n",
    "plt.axvline(b, c = 'y', label=\"percentile 50\")\n",
    "plt.axvline(c, c = 'g', label=\"percentile 95\")\n",
    "plt.legend()"
   ]
  },
  {
   "cell_type": "code",
   "execution_count": 8,
   "metadata": {},
   "outputs": [
    {
     "name": "stdout",
     "output_type": "stream",
     "text": [
      "credible interval: (0.24198134181361972, 2.5162343640955127)\n"
     ]
    }
   ],
   "source": [
    "print(\"credible interval: ({0}, {1})\".format(a, c))"
   ]
  },
  {
   "cell_type": "markdown",
   "metadata": {},
   "source": [
    "We observe that a [credible interval](https://en.wikipedia.org/wiki/Credible_interval) that contains 90% of the probability mass of $k$ is broad. This is consistent with the answer provided by Bayesian model comparison: k has a broad distribution, we don't really have a reason to believe it is smaller, greater or equal than 1."
   ]
  },
  {
   "cell_type": "markdown",
   "metadata": {},
   "source": [
    "## Examples\n",
    "\n",
    "TODO"
   ]
  },
  {
   "cell_type": "markdown",
   "metadata": {},
   "source": [
    "## Conclusions\n",
    "\n",
    "The two approaches formalize different questions that are related to our core concern:\n",
    "\n",
    "* the Bayesian model comparison tells us whether there are systematic differences between the two days\n",
    "* the density of the proportionality constant lets us quantify the magnitude of the differences\n",
    "\n",
    "I find them especially useful in the small-sample, small-rate cases, where my intuition seems to be pretty useless."
   ]
  }
 ],
 "metadata": {
  "kernelspec": {
   "display_name": "Python 3",
   "language": "python",
   "name": "python3"
  },
  "language_info": {
   "codemirror_mode": {
    "name": "ipython",
    "version": 3
   },
   "file_extension": ".py",
   "mimetype": "text/x-python",
   "name": "python",
   "nbconvert_exporter": "python",
   "pygments_lexer": "ipython3",
   "version": "3.7.3"
  }
 },
 "nbformat": 4,
 "nbformat_minor": 4
}
