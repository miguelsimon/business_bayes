{
 "cells": [
  {
   "cell_type": "code",
   "execution_count": 1,
   "metadata": {},
   "outputs": [],
   "source": [
    "from business_bayes.poisson_model_comparison import PoissonModels\n"
   ]
  },
  {
   "cell_type": "markdown",
   "metadata": {},
   "source": [
    "## Poisson model comparison utility\n",
    "\n",
    "Are the Poisson counts observed in counts_1 and those observed in counts_2 reasonably explained by the same model?\n",
    "\n",
    "Variables needed:\n",
    "* `a`: lower bound on Poisson rate\n",
    "* `b`: upper bound on Poisson rate\n",
    "* `counts_1`: array of counts\n",
    "* `counts_2`: array of counts\n",
    "\n",
    "run `Kernel->Restart & Run all` to get the report."
   ]
  },
  {
   "cell_type": "code",
   "execution_count": 2,
   "metadata": {},
   "outputs": [],
   "source": [
    "a = 0.01\n",
    "b = 100\n",
    "counts_1 = [5]\n",
    "counts_2 = [5]\n",
    "\n",
    "model_comparison = PoissonModels(a, b)"
   ]
  },
  {
   "cell_type": "markdown",
   "metadata": {},
   "source": [
    "### Model\n",
    "\n",
    "Model 1: both experiments depend on same Poisson rate:\n",
    "\n",
    "* $\\mu \\sim \\operatorname{LogUniform}(a, b)$\n",
    "* $counts\\_1_i \\sim \\operatorname{Poisson}(\\mu)$\n",
    "* $counts\\_2_i \\sim \\operatorname{Poisson}(\\mu)$\n",
    "\n",
    "Model 2: different rates for each experiment\n",
    "\n",
    "* $\\mu_1 \\sim \\operatorname{LogUniform}(a, b)$\n",
    "* $\\mu_2 \\sim \\operatorname{LogUniform}(a, b)$\n",
    "* $counts\\_1_i \\sim \\operatorname{Poisson}(\\mu_1)$\n",
    "* $counts\\_2_i \\sim \\operatorname{Poisson}(\\mu_2)$"
   ]
  },
  {
   "cell_type": "markdown",
   "metadata": {},
   "source": [
    "### Results\n",
    "\n",
    "* `> 0` supports the single-parameter model, that is, the same underlying rate explains both observations\n",
    "* `< 0` supports the two-parameter model\n",
    "\n",
    "[This table from wikipedia](https://en.wikipedia.org/wiki/Bayes_factor#Interpretation) helps with interpreting results:\n",
    "\n",
    "| bits | strength of evidence |\n",
    "| ---- | -------------------- |\n",
    "| 0 to 1.6 | Barely worth mentioning |\n",
    "| 1.6 to 3.3 | Substantial |\n",
    "| 3.3 to 5.0 | Strong |\n",
    "| 5.0 to 6.6 | Very strong |\n",
    "| > 6.6 | Decisive |\n"
   ]
  },
  {
   "cell_type": "code",
   "execution_count": 3,
   "metadata": {},
   "outputs": [
    {
     "name": "stdout",
     "output_type": "stream",
     "text": [
      "Bayes factor in bits: 2.50\n"
     ]
    }
   ],
   "source": [
    "bayes_bits = model_comparison.bayes_factor_bits(counts_1, counts_2)\n",
    "print('Bayes factor in bits: {:.2f}'.format(bayes_bits))"
   ]
  }
 ],
 "metadata": {
  "kernelspec": {
   "display_name": "Python 3",
   "language": "python",
   "name": "python3"
  },
  "language_info": {
   "codemirror_mode": {
    "name": "ipython",
    "version": 3
   },
   "file_extension": ".py",
   "mimetype": "text/x-python",
   "name": "python",
   "nbconvert_exporter": "python",
   "pygments_lexer": "ipython3",
   "version": "3.7.3"
  }
 },
 "nbformat": 4,
 "nbformat_minor": 4
}
