{
 "cells": [
  {
   "cell_type": "code",
   "execution_count": 1,
   "metadata": {},
   "outputs": [],
   "source": [
    "%matplotlib inline\n",
    "import numpy as np\n",
    "from matplotlib import pyplot as plt\n",
    "import time\n",
    "from business_bayes import bayesian_search"
   ]
  },
  {
   "cell_type": "markdown",
   "metadata": {},
   "source": [
    "## Bayesian Search Theory\n",
    "\n",
    "* [The problem](#The-problem)\n",
    "* [A concrete example](#A-concrete-example)\n",
    "    * [Problem specification](#Problem-specification)\n",
    "    * [Updating our probabilities after performing a search](#Updating-our-probabilities-after-performing-a-search)\n",
    "    * [Choosing the next box to search](#Choosing-the-next-box-to-search)\n",
    "    * [The algorithm](#The-algorithm)\n",
    "    * [Does it help?](#Does-it-help?)\n",
    "* [Benchmark against random search](#Benchmark-against-random-search)\n",
    "\n",
    "[Bayesian search theory](https://en.wikipedia.org/wiki/Bayesian_search_theory) is very useful, and it's not just for locating nuclear subs. When can you apply it?\n",
    "\n",
    "### The problem\n",
    "\n",
    "* The search space has been divided into $n$ *disjoint* sets: the object is located in one (and only one) of these\n",
    "* We have a prior belief of what the probabilities are of finding the object in each box\n",
    "* For each box, we know the probability of finding the object after searching the box *given the object is actually in that box*\n",
    "* For each box, we know how much performing a search of that box costs\n",
    "\n",
    "Given all that, **how should we choose the sequence of boxes to search to minimize the costs of finding the object?**\n",
    "\n",
    "The idea is to iteratively:\n",
    "* use our probability estimate for the object location, together with the search costs, to choose the next box to search\n",
    "* use [Bayes' theorem](https://en.wikipedia.org/wiki/Bayes%27_theorem) to revise our probability estimates of where the object is every time we perform a search of a box\n"
   ]
  },
  {
   "cell_type": "markdown",
   "metadata": {},
   "source": [
    "### A concrete example\n",
    "\n",
    "We've noticed a radical dropoff of sales in our online store which we're feverishly trying to debug; we're pretty sure it's either a new bug in the backend, a new bug in the frontend, or something else.\n",
    "\n",
    "Should we start panicking and running around like headless chickens, or is there a more systematic way to approach the search for the problem?\n"
   ]
  },
  {
   "cell_type": "markdown",
   "metadata": {},
   "source": [
    "#### Problem specification\n",
    "\n",
    "##### the search space\n",
    "\n",
    "So our assumption is there's three possible causes for the slump in sales; we assume only one of these is happening.\n",
    "\n",
    "1. a bug in the backend code\n",
    "2. a bug in the frontend code\n",
    "3. something else\n",
    "\n",
    "##### the prior probability\n",
    "\n",
    "We don't have good reasons to believe any one of these is more likely than any of the others, so we'll start by assigning equal probabilities to the three options:\n",
    "\n",
    "* $P(backend) = \\frac{1}{3}$\n",
    "* $P(frontend) = \\frac{1}{3}$\n",
    "* $P(other) = \\frac{1}{3}$"
   ]
  },
  {
   "cell_type": "code",
   "execution_count": 2,
   "metadata": {},
   "outputs": [],
   "source": [
    "p0 = np.ones(3) / 3."
   ]
  },
  {
   "cell_type": "markdown",
   "metadata": {},
   "source": [
    "##### the probability of finding the object in a box given the object is actually there\n",
    "\n",
    "We're more experienced as a backend developer, so we'll rate our chances of finding a backend bug higher than those of finding a frontend bug by visual inspection. We do not know how to search for \"something else\", so we rate our chances of finding the cause there by thinking about all possible other causes to be low:\n",
    "\n",
    "* $P(found \\mid backend) = 0.4$\n",
    "* $P(found \\mid fronted) = 0.1$\n",
    "* $P(found \\mid other) = 0.05$"
   ]
  },
  {
   "cell_type": "code",
   "execution_count": 3,
   "metadata": {},
   "outputs": [],
   "source": [
    "p_found_given_box = np.array([0.4, 0.1, 0.05])"
   ]
  },
  {
   "cell_type": "markdown",
   "metadata": {},
   "source": [
    "##### the cost of searching each box\n",
    "\n",
    "Let's say we work in chunks of 1 hour: the cost of looking over the frontend code and the backend code in that case is the same, 1, as is the cost of blue-sky thinking about other possible causes for an hour.\n",
    "\n",
    "* $cost\\_searching\\_backend = 1.$\n",
    "* $cost\\_searching\\_frontend = 1.$\n",
    "* $cost\\_searching\\_other = 1.$"
   ]
  },
  {
   "cell_type": "code",
   "execution_count": 4,
   "metadata": {},
   "outputs": [],
   "source": [
    "costs = np.ones(3)"
   ]
  },
  {
   "cell_type": "markdown",
   "metadata": {},
   "source": [
    "#### Updating our probabilities after performing a search\n",
    "\n",
    "How do our initial probabilities $p_0$ change after, say, poring over the backend code for an hour and **not** having found the bug? \n",
    "\n",
    "Intuitively, we know we now have a somewhat lower belief in there being a backend bug, and a somewhat higher belief in the bug being caused by the frontend or by something else.\n",
    "\n",
    "If the assumptions we've made until now hold, we can use Bayes to exactly quantify **how much** these beliefs should change, let's do the math in the concrete case of having searched for an hour in the backend code and not having found anything.\n",
    "\n",
    "```\n",
    "P(A|B) = P(B|A)P(A) / P(B)\n",
    "\n",
    "P(backend_found | backend) = 0.6\n",
    "P(backend_not_found | backend) = 1 - P(backend_found | backend) = 0.6\n",
    "\n",
    "P(backend_not_found | backend) = 0.6\n",
    "P(backend_not_found | frontend) = 1\n",
    "P(backend_not_found | other) = 1\n",
    "\n",
    "P(backend_not_found) = P(backend_not_found | backend) * P(backend) + P(frontend) + P(other)\n",
    "```\n",
    "\n",
    "So the posterior probabilities, after searching in the backend code for 1 hour and not finding anything:\n",
    "\n",
    "```\n",
    "P(backend | backend_not_found) = P(backend_not_found | backend) * P(backend) / P(backend_not_found)\n",
    "P(frontend | backend_not_found) = P(frontend) / P(backend_not_found)\n",
    "P(other | backend_not_found) = P(other) / P(backend_not_found)\n",
    "```\n",
    "\n",
    "The bayesian update is implemented by the `bayesian_search.observe` function:"
   ]
  },
  {
   "cell_type": "code",
   "execution_count": 5,
   "metadata": {},
   "outputs": [
    {
     "name": "stdout",
     "output_type": "stream",
     "text": [
      "p1:  [0.23076923 0.38461538 0.38461538]\n"
     ]
    }
   ],
   "source": [
    "# we've searched in the backend code, which is the box with index 0:\n",
    "search0 = 0\n",
    "\n",
    "# get updated probabilities after taking this information into account\n",
    "p1 = bayesian_search.observe(p0, search0, p_found_given_box[search0])\n",
    "print(\"p1: \", p1)"
   ]
  },
  {
   "cell_type": "markdown",
   "metadata": {},
   "source": [
    "This result is a quantified version of our intuition: we're now less confident that there's a backend problem."
   ]
  },
  {
   "cell_type": "markdown",
   "metadata": {},
   "source": [
    "#### Choosing the next box to search"
   ]
  },
  {
   "cell_type": "markdown",
   "metadata": {},
   "source": [
    "Given:\n",
    "\n",
    "* the probabilities $p$ representing our current belief of where the object is\n",
    "* the probabilities $p\\_found$ characterizing the effectiveness of our search\n",
    "* the costs $costs$ of each type of search\n",
    "\n",
    "what box should I choose to search next?\n",
    "\n",
    "David Blackwell answered that question already: we should search the box with the index $i$ that maximizes the following quantity:\n",
    "\n",
    "$$\n",
    "\\frac{p_i * {p\\_found}_i}{costs_i}\n",
    "$$\n",
    "\n",
    "**Boom**, next, haha. \n",
    "\n",
    "I haven't taken the time to actually do it but I'm pretty sure the [Bellman equation](https://en.wikipedia.org/wiki/Bellman_equation) for this should be straightforward: we can use our current probability estimate to take an expectation over the outcomes of the next experiment.\n",
    "\n",
    "This choice is implemented by the `bayesian_search.choose_next` function:"
   ]
  },
  {
   "cell_type": "code",
   "execution_count": 6,
   "metadata": {},
   "outputs": [
    {
     "name": "stdout",
     "output_type": "stream",
     "text": [
      "search1:  0\n"
     ]
    }
   ],
   "source": [
    "search1 = bayesian_search.choose_next(p1, p_found_given_box, costs)\n",
    "print(\"search1: \", search1)"
   ]
  },
  {
   "cell_type": "markdown",
   "metadata": {},
   "source": [
    "#### The algorithm\n",
    "\n",
    "Now we have all the ingredients needed for the Bayesian search algorithm, in pseudopython:\n",
    "\n",
    "```python\n",
    "found = False\n",
    "\n",
    "while True:\n",
    "    next_box_idx = bayesian_search.choose_next(p, p_found_given_box, costs)\n",
    "    found = perform_search(next_box_idx)\n",
    "    if found:\n",
    "        # yay\n",
    "        break\n",
    "    else:\n",
    "        # update our probabilities\n",
    "        p = bayesian_search.observe(p, next_box_idx, p_found_given_box[next_box_idx])\n",
    "```\n",
    "\n",
    "Let's simulate this.\n",
    "\n",
    "First, we need to create a problem instance: a `location_idx` represents the true location of the object, a `perform_search` function stochastically performs a search:"
   ]
  },
  {
   "cell_type": "code",
   "execution_count": 7,
   "metadata": {},
   "outputs": [],
   "source": [
    "# say the real cause is a frontend bug\n",
    "location_idx = 1\n",
    "\n",
    "def perform_search(next_box_idx):\n",
    "    \"\"\"\n",
    "    Stand-in for performing a search: return True if found, False otherwise\n",
    "    \"\"\"\n",
    "    if next_box_idx == location_idx:\n",
    "        prob = p_found_given_box[location_idx]\n",
    "        found = np.random.binomial(1, prob)\n",
    "        return found == 1\n",
    "    else:\n",
    "        return False"
   ]
  },
  {
   "cell_type": "markdown",
   "metadata": {},
   "source": [
    "Now we can use our simulated `perform_search` function to simulate the bayesian search, looking at how our probabilities evolve as we perform searches and take the information into account:"
   ]
  },
  {
   "cell_type": "code",
   "execution_count": 8,
   "metadata": {
    "scrolled": true
   },
   "outputs": [
    {
     "name": "stdout",
     "output_type": "stream",
     "text": [
      "probabilities:  [0.33333333 0.33333333 0.33333333] next:  0\n",
      "probabilities:  [0.23076923 0.38461538 0.38461538] next:  0\n",
      "probabilities:  [0.15254237 0.42372881 0.42372881] next:  0\n",
      "probabilities:  [0.09747292 0.45126354 0.45126354] next:  1\n",
      "probabilities:  [0.1020794  0.42533081 0.47258979] next:  1\n",
      "probabilities:  [0.10661402 0.39980257 0.49358342] next:  0\n",
      "probabilities:  [0.0668179  0.41761188 0.51557022] next:  1\n",
      "probabilities:  [0.0697299  0.39223071 0.53803938] next:  1\n",
      "probabilities:  [0.07257658 0.36741894 0.56000448] next:  1\n",
      "probabilities:  [0.07534489 0.34329018 0.58136493] next:  1\n",
      "probabilities:  [0.07802336 0.31994454 0.6020321 ] next:  1\n",
      "probabilities:  [0.08060218 0.29746739 0.62193042] next:  0\n",
      "probabilities:  [0.04997247 0.30737751 0.64265002] next:  2\n",
      "probabilities:  [0.05163152 0.31758222 0.63078626] next:  1\n",
      "probabilities:  [0.05332502 0.295199   0.65147598] next:  2\n",
      "probabilities:  [0.05512051 0.30513852 0.63974097] next:  2\n",
      "probabilities:  [0.05694191 0.31522152 0.62783656] next:  1\n",
      "total cost:  17.0\n"
     ]
    }
   ],
   "source": [
    "np.random.seed(0)\n",
    "p = p0\n",
    "cost = 0\n",
    "while 1:\n",
    "    next_box_idx = bayesian_search.choose_next(p, p_found_given_box, costs)\n",
    "    print(\"probabilities: \", p, \"next: \", next_box_idx)\n",
    "    cost += costs[next_box_idx]\n",
    "    found = perform_search(next_box_idx)\n",
    "    if found:\n",
    "        break\n",
    "    else:\n",
    "        p = bayesian_search.observe(p, next_box_idx, p_found_given_box[next_box_idx])\n",
    "print('total cost: ', cost)"
   ]
  },
  {
   "cell_type": "markdown",
   "metadata": {},
   "source": [
    "#### Does it help?\n",
    "\n",
    "The probability of finding the bug via a random check is:\n",
    "\n",
    "$$\n",
    "0.1 * \\frac{1}{3} = 0.0\\overline{3}\n",
    "$$\n",
    "\n",
    "[hence the expected cost of random search](https://en.wikipedia.org/wiki/Geometric_series#Geometric_power_series) works out to be, rather neatly:\n",
    "\n",
    "$$\n",
    "cost(steps=1) * prob(steps=1) + cost(steps=2) * prob(steps=2) + \\ldots \n",
    "$$\n",
    "\n",
    "\n",
    "$$\n",
    "p + 2 (1 - p) p + 3 (1 - p) ^ 2 p \\ldots k (1 -p) ^ {k -1} p \\ldots\n",
    "$$\n",
    "\n",
    "$$\n",
    "p \\cdot \\sum_{k=1}^{\\infty} k \\cdot (1 - p) ^ {k -1} = p \\cdot \\frac{1}{(1 - (1 -p)) ^ 2}\n",
    "$$\n",
    "\n",
    "$$\n",
    "\\frac{1}{p}\n",
    "$$\n",
    "\n",
    "$$\n",
    "1 \\cdot \\frac{1}{0.0\\overline{3}} = 30\n",
    "$$\n",
    "\n",
    "Let's get a monte carlo estimate of the expected cost in this case with Bayesian search (and with random search to double check my math):"
   ]
  },
  {
   "cell_type": "code",
   "execution_count": 9,
   "metadata": {},
   "outputs": [
    {
     "name": "stdout",
     "output_type": "stream",
     "text": [
      "expected bayesian cost:  24.4034 27.688110597149816\n",
      "expected random cost:  29.9432 29.481549717747196\n"
     ]
    }
   ],
   "source": [
    "bayes_costs = [bayesian_search.simulate_bayes(p0, p_found_given_box, costs, location_idx) for _ in range(10000)]\n",
    "print('expected bayesian cost: ', np.mean(bayes_costs), np.std(bayes_costs))\n",
    "rnd_costs = [bayesian_search.simulate_random(p_found_given_box, costs, location_idx) for _ in range(10000)]\n",
    "print('expected random cost: ', np.mean(rnd_costs), np.std(rnd_costs))"
   ]
  },
  {
   "cell_type": "markdown",
   "metadata": {},
   "source": [
    "In this case we expect to take **~5.5 hours less** if we search using bayesian search than if we just use random search. That's a very respectable 18% less time.\n",
    "\n",
    "### Benchmark against random search\n",
    "\n",
    "Intuitivelty, bayesian search helps least for uniformly-distributed priors, costs and finding probabilities: in that case, searching randomly is worse, but not MUCH worse.\n",
    "\n",
    "Let's test out a few cases against the uniform case."
   ]
  },
  {
   "cell_type": "code",
   "execution_count": 10,
   "metadata": {},
   "outputs": [],
   "source": [
    "cases = {\n",
    "    'uniform': {\n",
    "        'p0': np.ones(3) / 3,\n",
    "        'p_found_given_box': np.ones(3) / 5,\n",
    "        'costs': np.ones(3)\n",
    "    },\n",
    "    'skewed_find_probs': {\n",
    "        'p0': np.ones(3) / 3,\n",
    "        'p_found_given_box': np.array([100, 10, 1]) / 111,\n",
    "        'costs': np.ones(3)\n",
    "    },\n",
    "    'skewed_costs': {\n",
    "        'p0': np.ones(3) / 3,\n",
    "        'p_found_given_box': np.ones(3) / 5,\n",
    "        'costs': np.array([100, 10, 1]) / 111\n",
    "    },\n",
    "    'skewed_all': {\n",
    "        'p0': np.ones(3) / 3,\n",
    "        'p_found_given_box': np.array([100, 10, 1]) / 111,\n",
    "        'costs': np.array([100, 10, 1]) / 111\n",
    "    },\n",
    "}"
   ]
  },
  {
   "cell_type": "code",
   "execution_count": 11,
   "metadata": {},
   "outputs": [],
   "source": [
    "res = {}\n",
    "\n",
    "for case_name, case in cases.items():\n",
    "    p0 = case['p0']\n",
    "    p_found_given_box = case['p_found_given_box']\n",
    "    costs = case['costs']\n",
    "    for location_idx in range(3):\n",
    "        b_samples = [bayesian_search.simulate_bayes(p0, p_found_given_box, costs, location_idx) for _ in range(10000)]\n",
    "        r_samples = [bayesian_search.simulate_random(p_found_given_box, costs, location_idx) for _ in range(10000)]\n",
    "        \n",
    "        res[case_name] = {\n",
    "            'bayes': b_samples,\n",
    "            'random': r_samples\n",
    "        }\n",
    "    "
   ]
  },
  {
   "cell_type": "code",
   "execution_count": 12,
   "metadata": {},
   "outputs": [
    {
     "name": "stdout",
     "output_type": "stream",
     "text": [
      "uniform\n",
      "expected bayes cost:  13.2274\n",
      "expected random cost:  14.9548\n",
      "\n",
      "skewed_find_probs\n",
      "expected bayes cost:  149.4608\n",
      "expected random cost:  336.1934\n",
      "\n",
      "skewed_costs\n",
      "expected bayes cost:  0.12318108108108108\n",
      "expected random cost:  4.875884684684685\n",
      "\n",
      "skewed_all\n",
      "expected bayes cost:  3.001727027027026\n",
      "expected random cost:  111.84202612612613\n",
      "\n"
     ]
    }
   ],
   "source": [
    "for case_name, data in res.items():\n",
    "    print(case_name)\n",
    "    for t in ['bayes', 'random']:\n",
    "        print('expected {0} cost: '.format(t), np.mean(data[t]))\n",
    "    print()"
   ]
  },
  {
   "cell_type": "markdown",
   "metadata": {},
   "source": [
    "Looks like bayesian search can really exploit the probability and costs asymmetries.\n",
    "\n",
    "So if your search problem is highly asymmetrical, odds are bayesian search can make a huge difference over unprincipled approaches."
   ]
  }
 ],
 "metadata": {
  "kernelspec": {
   "display_name": "Python 3",
   "language": "python",
   "name": "python3"
  },
  "language_info": {
   "codemirror_mode": {
    "name": "ipython",
    "version": 3
   },
   "file_extension": ".py",
   "mimetype": "text/x-python",
   "name": "python",
   "nbconvert_exporter": "python",
   "pygments_lexer": "ipython3",
   "version": "3.7.3"
  }
 },
 "nbformat": 4,
 "nbformat_minor": 4
}
