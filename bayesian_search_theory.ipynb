{
 "cells": [
  {
   "cell_type": "code",
   "execution_count": 1,
   "metadata": {},
   "outputs": [],
   "source": [
    "%matplotlib inline\n",
    "import numpy as np\n",
    "\n",
    "from business_bayes import bayesian_search"
   ]
  },
  {
   "cell_type": "markdown",
   "metadata": {},
   "source": [
    "## Bayesian Search Theory\n",
    "\n",
    "* [The problem](#The-problem)\n",
    "* [A concrete example](#A-concrete-example)\n",
    "    * [Problem specification](#Problem-specification)\n",
    "    * [Observing the result of one search](#Observing-the-result-of-one-search)\n",
    "    * [Choosing the next box to search](#Choosing-the-next-box-to-search)\n",
    "\n",
    "### The problem\n",
    "\n",
    "* The search space has been divided into $n$ *disjoint* boxes: the object is located in one (and only one) of these\n",
    "* We have a prior belief of what the probabilities are of finding the object in each box\n",
    "* For each box, we know the probability of finding the object after searching the box *given the object is actually in that box*\n",
    "* For each box, we know how much performing a search of that box costs\n",
    "\n",
    "Given all that, **how should we choose the sequence of boxes to search to minimize the costs of finding the object?**"
   ]
  },
  {
   "cell_type": "markdown",
   "metadata": {},
   "source": [
    "### A concrete example\n"
   ]
  },
  {
   "cell_type": "markdown",
   "metadata": {},
   "source": [
    "#### Problem specification\n",
    "\n",
    "##### the search space\n",
    "\n",
    "So our assumption is there's three possible causes for the slump in sales; we assume only one of these is happening.\n",
    "\n",
    "1. a bug in the backend code\n",
    "2. a bug in the frontend code\n",
    "3. something else\n",
    "\n",
    "##### the prior probability\n",
    "\n",
    "We don't have good reasons to believe any one of these is more likely than any of the others, so we'll start by assigning equal probabilities to the three options:\n",
    "\n",
    "* $P(backend) = \\frac{1}{3}$\n",
    "* $P(fronted) = \\frac{1}{3}$\n",
    "* $P(other) = \\frac{1}{3}$"
   ]
  },
  {
   "cell_type": "code",
   "execution_count": 2,
   "metadata": {},
   "outputs": [],
   "source": [
    "p0 = np.ones(3) / 3."
   ]
  },
  {
   "cell_type": "markdown",
   "metadata": {},
   "source": [
    "##### the probability of finding the object in a box given the object is actually there\n",
    "\n",
    "As stated, the only thing we *can* do is look over the code. We're more experienced as a backend developer, so we'll rate our chances of finding a backend bug by visual inspection to be higher than finding a frontend bug by visual inspection. We do not know how to search for \"something else\", so we rate our chances of finding the cause there by inspection to be 0:\n",
    "\n",
    "* $P(found \\mid backend) = 0.4$\n",
    "* $P(found \\mid fronted) = 0.1$\n",
    "* $P(found \\mid other) = 0.0$"
   ]
  },
  {
   "cell_type": "code",
   "execution_count": 3,
   "metadata": {},
   "outputs": [],
   "source": [
    "p_found_given_box = np.array([0.4, 0.1, 0])"
   ]
  },
  {
   "cell_type": "markdown",
   "metadata": {},
   "source": [
    "##### the cost of searching each box\n",
    "\n",
    "Let's say we work in chunks of 1 hour: the cost of looking over the frontend code and the backend code in that case is the same, 1. We might as well say that the cost of blue-sky thinking about other possible causes for an hour is also 1, but as we said above the probability of that being useful is 0.\n",
    "\n",
    "* $cost\\_searching\\_backend = 1.$\n",
    "* $cost\\_searching\\_frontend = 1.$\n",
    "* $cost\\_searching\\_other = 1.$"
   ]
  },
  {
   "cell_type": "code",
   "execution_count": 4,
   "metadata": {},
   "outputs": [],
   "source": [
    "costs = np.ones(3)"
   ]
  },
  {
   "cell_type": "markdown",
   "metadata": {},
   "source": [
    "#### Observing the result of one search\n",
    "\n",
    "How do our initial probabilities $p_0$ change after, say, poring over the backend code for an hour and **not** having found the bug? \n",
    "\n",
    "Intuitively, we know we now have a somewhat lower belief in there being a backend bug, and a somewhat higher belief in the bug being caused by the frontend or by something else.\n",
    "\n",
    "If the assumptions we've made until now hold, we can use Bayes to exactly quantify **how much** these beliefs should change, let's do the math in the concrete case of having searched for an hour in the backend code and not having found anything.\n",
    "\n",
    "```\n",
    "P(A|B) = P(B|A)P(A) / P(B)\n",
    "\n",
    "P(backend_found | backend) = 0.6\n",
    "P(backend_not_found | backend) = 1 - P(backend_found | backend) = 0.6\n",
    "\n",
    "P(backend_not_found | backend) = 0.6\n",
    "P(backend_not_found | frontend) = 1\n",
    "P(backend_not_found | other) = 1\n",
    "\n",
    "P(backend_not_found) = p(backend_not_found | backend) * P(backend) + P(frontend) + P(other)\n",
    "```\n",
    "\n",
    "So the posterior probabilities, after searching in the backend code for 1 hour and not finding anything:\n",
    "\n",
    "```\n",
    "P(backend | backend_not_found) = P(backend_not_found | backend) * P(backend) / P(backend_not_found)\n",
    "P(frontend | backend_not_found) = P(frontend) / P(backend_not_found)\n",
    "P(other | backend_not_found) = P(other) / P(backend_not_found)\n",
    "```\n",
    "\n",
    "The bayesian update is implemented by the `bayesian_search.observe` function:"
   ]
  },
  {
   "cell_type": "code",
   "execution_count": 6,
   "metadata": {},
   "outputs": [
    {
     "name": "stdout",
     "output_type": "stream",
     "text": [
      "[0.23076923 0.38461538 0.38461538]\n"
     ]
    }
   ],
   "source": [
    "# we've searched in the backend code, which is the box with index 0:\n",
    "search0 = 0\n",
    "\n",
    "# get updated probabilities after taking this information into account\n",
    "p1 = bayesian_search.observe(p0, search0, p_found_given_box[search0])\n",
    "print(p1)"
   ]
  },
  {
   "cell_type": "markdown",
   "metadata": {},
   "source": [
    "This result is a quantified version of our intuition: we're now less confident that there's a backend problem."
   ]
  },
  {
   "cell_type": "markdown",
   "metadata": {},
   "source": [
    "#### Choosing the next box to search"
   ]
  },
  {
   "cell_type": "code",
   "execution_count": null,
   "metadata": {},
   "outputs": [],
   "source": []
  }
 ],
 "metadata": {
  "kernelspec": {
   "display_name": "Python 3",
   "language": "python",
   "name": "python3"
  },
  "language_info": {
   "codemirror_mode": {
    "name": "ipython",
    "version": 3
   },
   "file_extension": ".py",
   "mimetype": "text/x-python",
   "name": "python",
   "nbconvert_exporter": "python",
   "pygments_lexer": "ipython3",
   "version": "3.7.3"
  }
 },
 "nbformat": 4,
 "nbformat_minor": 4
}
