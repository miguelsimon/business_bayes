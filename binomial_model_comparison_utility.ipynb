{
 "cells": [
  {
   "cell_type": "code",
   "execution_count": 1,
   "metadata": {},
   "outputs": [],
   "source": [
    "from business_bayes.binomial_model_comparison import Binomials\n",
    "\n",
    "model_comparison = Binomials()"
   ]
  },
  {
   "cell_type": "markdown",
   "metadata": {},
   "source": [
    "## Binomial model comparison utility\n",
    "\n",
    "Variables needed:\n",
    "* `count_1`: successes in first binomial experiment\n",
    "* `trials_1`: total trials in first binomial experiment\n",
    "* `count_2`: successes in second binomial experiment\n",
    "* `trials_2`: total trials in second binomial experiment\n",
    "\n",
    "run `Kernel->Restart & Run all` to get the report."
   ]
  },
  {
   "cell_type": "code",
   "execution_count": 2,
   "metadata": {},
   "outputs": [],
   "source": [
    "count_1 = 4\n",
    "trials_1 = 324\n",
    "count_2 = 1\n",
    "trials_2 = 33"
   ]
  },
  {
   "cell_type": "markdown",
   "metadata": {},
   "source": [
    "### Results\n",
    "\n",
    "* `> 0` supports the single-parameter model, that is, the same underlying p explains both observations\n",
    "* `< 0` supports the two-parameter model\n",
    "\n",
    "[This table from wikipedia](https://en.wikipedia.org/wiki/Bayes_factor#Interpretation) helps with interpreting results:\n",
    "\n",
    "| bits | strength of evidence |\n",
    "| ---- | -------------------- |\n",
    "| 0 to 1.6 | Barely worth mentioning |\n",
    "| 1.6 to 3.3 | Substantial |\n",
    "| 3.3 to 5.0 | Strong |\n",
    "| 5.0 to 6.6 | Very strong |\n",
    "| > 6.6 | Decisive |\n"
   ]
  },
  {
   "cell_type": "code",
   "execution_count": 3,
   "metadata": {},
   "outputs": [
    {
     "name": "stdout",
     "output_type": "stream",
     "text": [
      "Bayes factor in bits: 3.29\n"
     ]
    }
   ],
   "source": [
    "bayes_bits = model_comparison.bayes_factor_bits(count_1, trials_1, count_2, trials_2)\n",
    "print('Bayes factor in bits: {:.2f}'.format(bayes_bits))"
   ]
  },
  {
   "cell_type": "code",
   "execution_count": null,
   "metadata": {},
   "outputs": [],
   "source": []
  },
  {
   "cell_type": "code",
   "execution_count": null,
   "metadata": {},
   "outputs": [],
   "source": []
  }
 ],
 "metadata": {
  "kernelspec": {
   "display_name": "Python 3",
   "language": "python",
   "name": "python3"
  },
  "language_info": {
   "codemirror_mode": {
    "name": "ipython",
    "version": 3
   },
   "file_extension": ".py",
   "mimetype": "text/x-python",
   "name": "python",
   "nbconvert_exporter": "python",
   "pygments_lexer": "ipython3",
   "version": "3.7.3"
  }
 },
 "nbformat": 4,
 "nbformat_minor": 4
}
